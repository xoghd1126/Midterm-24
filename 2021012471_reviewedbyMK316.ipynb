{
  "nbformat": 4,
  "nbformat_minor": 0,
  "metadata": {
    "colab": {
      "provenance": [],
      "include_colab_link": true
    },
    "kernelspec": {
      "name": "python3",
      "display_name": "Python 3"
    },
    "language_info": {
      "name": "python"
    }
  },
  "cells": [
    {
      "cell_type": "markdown",
      "metadata": {
        "id": "view-in-github",
        "colab_type": "text"
      },
      "source": [
        "<a href=\"https://colab.research.google.com/github/xoghd1126/Midterm-24/blob/main/2021012471_reviewedbyMK316.ipynb\" target=\"_parent\"><img src=\"https://colab.research.google.com/assets/colab-badge.svg\" alt=\"Open In Colab\"/></a>"
      ]
    },
    {
      "cell_type": "markdown",
      "source": [
        "# Midterm 2024 : Taehong Park\n",
        "\n",
        "Reviewed by MK316"
      ],
      "metadata": {
        "id": "I_3Pbm9AZxVQ"
      }
    },
    {
      "cell_type": "markdown",
      "source": [
        "# (😏Check my code below): 1/3  "
      ],
      "metadata": {
        "id": "IeSlxUORiJGl"
      }
    },
    {
      "cell_type": "code",
      "source": [
        "# Dropdown\n",
        "\n",
        "cardinal_number = \"2\" #@param = [\"2\",\"3\",\"4\"]\n",
        "\n",
        "# Add one line of code below\n",
        "cardinal_number = int(cardinal_number)\n",
        "\n",
        "# Ordinal expression as a list\n",
        "\n",
        "words = [ \"First\", \"Second\", \"Third\"]\n",
        "\n",
        "print(\"The ordinal expression:\", words[cardinal_number])"
      ],
      "metadata": {
        "colab": {
          "base_uri": "https://localhost:8080/"
        },
        "cellView": "form",
        "id": "x3OyDOLHd_dg",
        "outputId": "411c7324-2b0e-49f0-8a0e-2fa071e06c0f"
      },
      "execution_count": 1,
      "outputs": [
        {
          "output_type": "stream",
          "name": "stdout",
          "text": [
            "The ordinal expression: Third\n"
          ]
        }
      ]
    },
    {
      "cell_type": "code",
      "source": [
        "#🚩 Suggested code below:\n",
        "# Dropdown\n",
        "\n",
        "cardinal_number = \"4\" #@param = [\"1\",\"2\",\"3\",\"4\"]\n",
        "\n",
        "# Add one line of code below\n",
        "cardinal_number = int(cardinal_number) - 1 #🚩 Index matching\n",
        "\n",
        "# Ordinal expression as a list\n",
        "\n",
        "words = [\"First\", \"Second\",\"Third\",\"Fourth\"]\n",
        "\n",
        "print(\"The ordinal expression:\", words[cardinal_number])"
      ],
      "metadata": {
        "id": "GOTsDMVsideJ"
      },
      "execution_count": null,
      "outputs": []
    },
    {
      "cell_type": "markdown",
      "source": [
        "#Name Question(😊Good job!): 2/3\n",
        "\n",
        "Check punctuations. See my suggested code below:\n"
      ],
      "metadata": {
        "id": "bHn5YPmEejDw"
      }
    },
    {
      "cell_type": "code",
      "source": [
        "x = \"my name is\"\n",
        "y =  \" Taehong Park\"\n",
        "\n",
        "print(x+y)\n"
      ],
      "metadata": {
        "colab": {
          "base_uri": "https://localhost:8080/"
        },
        "id": "dJXIbRiheo6n",
        "outputId": "f9117dc3-e6c4-4485-cbe1-8ce955d089b8"
      },
      "execution_count": 2,
      "outputs": [
        {
          "output_type": "stream",
          "name": "stdout",
          "text": [
            "my name is Taehong Park\n"
          ]
        }
      ]
    },
    {
      "cell_type": "markdown",
      "source": [
        "🚩 Suggested code below:"
      ],
      "metadata": {
        "id": "YGH8aBNlio-l"
      }
    },
    {
      "cell_type": "code",
      "source": [
        "x = \"My name is\"\n",
        "y = input(\"Your name: \")\n",
        "\n",
        "print(f\"{x} {y}.\")"
      ],
      "metadata": {
        "id": "JZP_zgLKip4e"
      },
      "execution_count": null,
      "outputs": []
    },
    {
      "cell_type": "markdown",
      "source": [
        "#Mary, 1998, Ohio;and John, 1999, Boston => (😅Nice try! But check my code to compare.) 1.5/3"
      ],
      "metadata": {
        "id": "WGVc8oVDgk2w"
      }
    },
    {
      "cell_type": "code",
      "source": [
        "x = input()\n",
        "y = input()\n",
        "z = input()\n",
        "Hello, my name is Mary, I was born in 1998, and I'm from Ohio\n",
        "x = input('Name: ')\n",
        "print(x)"
      ],
      "metadata": {
        "colab": {
          "base_uri": "https://localhost:8080/",
          "height": 106
        },
        "id": "9uqeFrZzg60w",
        "outputId": "3613af53-25b7-4d1b-9f46-0afbccb60f07"
      },
      "execution_count": null,
      "outputs": [
        {
          "output_type": "error",
          "ename": "SyntaxError",
          "evalue": "unterminated string literal (detected at line 4) (<ipython-input-47-a43ff8647648>, line 4)",
          "traceback": [
            "\u001b[0;36m  File \u001b[0;32m\"<ipython-input-47-a43ff8647648>\"\u001b[0;36m, line \u001b[0;32m4\u001b[0m\n\u001b[0;31m    Hello, my name is Mary, I was born in 1998, and I'm from Ohio\u001b[0m\n\u001b[0m                                                     ^\u001b[0m\n\u001b[0;31mSyntaxError\u001b[0m\u001b[0;31m:\u001b[0m unterminated string literal (detected at line 4)\n"
          ]
        }
      ]
    },
    {
      "cell_type": "markdown",
      "source": [
        "🚩 Suggested code below:"
      ],
      "metadata": {
        "id": "kP_k1hrQizeM"
      }
    },
    {
      "cell_type": "code",
      "source": [
        "x = input(\"Name: \") #name\n",
        "y = input(\"Born in: \") #born_in\n",
        "z = input(\"Home town: \") #hometown\n",
        "\n",
        "text = f\"Hello, my name is {x} and I was born in {y}. I'm from {z}. Nice to meet you!\"\n",
        "print(text)"
      ],
      "metadata": {
        "id": "1y9M7PRoizPQ"
      },
      "execution_count": null,
      "outputs": []
    },
    {
      "cell_type": "markdown",
      "source": [
        "##Dictionary grades of Bob, Charile, Bill: (😏Check my code below): 1/3"
      ],
      "metadata": {
        "id": "l7YX0-CyiPXw"
      }
    },
    {
      "cell_type": "code",
      "source": [
        "student_grades = { 90, 85, 95}\n",
        "print(student_grades)"
      ],
      "metadata": {
        "colab": {
          "base_uri": "https://localhost:8080/"
        },
        "id": "l3blyU88iv5h",
        "outputId": "f53e5f84-638d-4bfa-d74f-8edf7ece5c25"
      },
      "execution_count": 3,
      "outputs": [
        {
          "output_type": "stream",
          "name": "stdout",
          "text": [
            "{90, 85, 95}\n"
          ]
        }
      ]
    },
    {
      "cell_type": "markdown",
      "source": [
        "🚩 Suggested code below:"
      ],
      "metadata": {
        "id": "OQbVAfzai7XY"
      }
    },
    {
      "cell_type": "code",
      "source": [
        "grades = {'Bob':80, 'Charlie':75, 'Bill':90}\n",
        "\n",
        "print(grades['Bob'])"
      ],
      "metadata": {
        "id": "ATsBrcZqi8Zm",
        "outputId": "2d6f421a-f847-4886-dfd0-f90d7828ad00",
        "colab": {
          "base_uri": "https://localhost:8080/"
        }
      },
      "execution_count": 4,
      "outputs": [
        {
          "output_type": "stream",
          "name": "stdout",
          "text": [
            "80\n"
          ]
        }
      ]
    },
    {
      "cell_type": "markdown",
      "source": [
        "#GTTS => (😍You got it!): 3/3"
      ],
      "metadata": {
        "id": "jimsHC22juP4"
      }
    },
    {
      "cell_type": "code",
      "source": [
        "# First, install the gTTS library if you haven't already\n",
        "!pip install gTTS\n",
        "\n",
        "# Import the gTTS library\n",
        "from gtts import gTTS\n",
        "\n",
        "# Import IPython display module\n",
        "from IPython.display import Audio, display"
      ],
      "metadata": {
        "colab": {
          "base_uri": "https://localhost:8080/"
        },
        "id": "_M9A3pq4jsPo",
        "outputId": "81691d9c-963a-4d53-8733-aee9f6ffecea"
      },
      "execution_count": 5,
      "outputs": [
        {
          "output_type": "stream",
          "name": "stdout",
          "text": [
            "Collecting gTTS\n",
            "  Downloading gTTS-2.5.1-py3-none-any.whl (29 kB)\n",
            "Requirement already satisfied: requests<3,>=2.27 in /usr/local/lib/python3.10/dist-packages (from gTTS) (2.31.0)\n",
            "Requirement already satisfied: click<8.2,>=7.1 in /usr/local/lib/python3.10/dist-packages (from gTTS) (8.1.7)\n",
            "Requirement already satisfied: charset-normalizer<4,>=2 in /usr/local/lib/python3.10/dist-packages (from requests<3,>=2.27->gTTS) (3.3.2)\n",
            "Requirement already satisfied: idna<4,>=2.5 in /usr/local/lib/python3.10/dist-packages (from requests<3,>=2.27->gTTS) (3.7)\n",
            "Requirement already satisfied: urllib3<3,>=1.21.1 in /usr/local/lib/python3.10/dist-packages (from requests<3,>=2.27->gTTS) (2.0.7)\n",
            "Requirement already satisfied: certifi>=2017.4.17 in /usr/local/lib/python3.10/dist-packages (from requests<3,>=2.27->gTTS) (2024.2.2)\n",
            "Installing collected packages: gTTS\n",
            "Successfully installed gTTS-2.5.1\n"
          ]
        }
      ]
    },
    {
      "cell_type": "code",
      "source": [
        "# Text to be converted to speech\n",
        "text = \"I have succeeded in this task.\"\n",
        "\n",
        "# Language in which you want to convert\n",
        "language = 'en'\n",
        "\n",
        "# Pass the text and language to the gTTS module\n",
        "speech = gTTS(text = text, lang = language, slow = False)\n",
        "\n",
        "# Save the converted audio file\n",
        "speech.save(\"output.mp3\")\n",
        "\n",
        "# Display the audio directly in the notebook\n",
        "display(Audio(\"output.mp3\", autoplay=True))"
      ],
      "metadata": {
        "colab": {
          "base_uri": "https://localhost:8080/",
          "height": 74
        },
        "id": "nYIP-OIXjaZJ",
        "outputId": "239cf379-5b3e-4e35-beb4-09c9dbd83a58"
      },
      "execution_count": 6,
      "outputs": [
        {
          "output_type": "display_data",
          "data": {
            "text/plain": [
              "<IPython.lib.display.Audio object>"
            ],
            "text/html": [
              "\n",
              "                <audio  controls=\"controls\" autoplay=\"autoplay\">\n",
              "                    <source src=\"data:audio/mpeg;base64,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\" type=\"audio/mpeg\" />\n",
              "                    Your browser does not support the audio element.\n",
              "                </audio>\n",
              "              "
            ]
          },
          "metadata": {}
        }
      ]
    },
    {
      "cell_type": "markdown",
      "source": [],
      "metadata": {
        "id": "kZBkaLbxjw3A"
      }
    },
    {
      "cell_type": "markdown",
      "source": [
        "#Mathematical operators => (😏Check my code below): 1/3"
      ],
      "metadata": {
        "id": "1pVACkd1j6nw"
      }
    },
    {
      "cell_type": "code",
      "source": [
        "#x=20\n",
        "#y=4\n",
        "result = add_numbers(x%y)\n",
        "print(\"The sum is:\", result)\n",
        "    return sum"
      ],
      "metadata": {
        "colab": {
          "base_uri": "https://localhost:8080/",
          "height": 111
        },
        "id": "qP5dotW-kArP",
        "outputId": "d8040d46-f25a-4acb-bf40-a437a3a00bcb"
      },
      "execution_count": 7,
      "outputs": [
        {
          "output_type": "error",
          "ename": "IndentationError",
          "evalue": "unexpected indent (<ipython-input-7-55e3cf60a3d6>, line 5)",
          "traceback": [
            "\u001b[0;36m  File \u001b[0;32m\"<ipython-input-7-55e3cf60a3d6>\"\u001b[0;36m, line \u001b[0;32m5\u001b[0m\n\u001b[0;31m    return sum\u001b[0m\n\u001b[0m    ^\u001b[0m\n\u001b[0;31mIndentationError\u001b[0m\u001b[0;31m:\u001b[0m unexpected indent\n"
          ]
        }
      ]
    },
    {
      "cell_type": "markdown",
      "source": [
        "🚩 Suggested code below:"
      ],
      "metadata": {
        "id": "4BUKsqScjNFo"
      }
    },
    {
      "cell_type": "code",
      "source": [
        "def divide_numbers(num1, num2):\n",
        "    result = num1 / num2\n",
        "    return result\n",
        "\n",
        "divide_numbers(20, 4)"
      ],
      "metadata": {
        "id": "bCFnWY8xjOEA",
        "outputId": "e037c444-d85c-4ce2-883f-febc78af566b",
        "colab": {
          "base_uri": "https://localhost:8080/"
        }
      },
      "execution_count": 8,
      "outputs": [
        {
          "output_type": "execute_result",
          "data": {
            "text/plain": [
              "5.0"
            ]
          },
          "metadata": {},
          "execution_count": 8
        }
      ]
    },
    {
      "cell_type": "markdown",
      "source": [
        "#Audio files (😅Nice try! But you should have change the text variable to get the expected audio.): 2/3"
      ],
      "metadata": {
        "id": "ZMjn3TkQlEm5"
      }
    },
    {
      "cell_type": "code",
      "source": [
        "# First, install the gTTS library if you haven't already\n",
        "!pip install gTTS\n",
        "\n",
        "# Import the gTTS library\n",
        "from gtts import gTTS\n",
        "\n",
        "# Import IPython display module\n",
        "from IPython.display import Audio, display"
      ],
      "metadata": {
        "colab": {
          "base_uri": "https://localhost:8080/"
        },
        "id": "VNTtnp3clGoB",
        "outputId": "e720760e-a7ab-4cf7-9cb4-4dc63ac696bb"
      },
      "execution_count": 9,
      "outputs": [
        {
          "output_type": "stream",
          "name": "stdout",
          "text": [
            "Requirement already satisfied: gTTS in /usr/local/lib/python3.10/dist-packages (2.5.1)\n",
            "Requirement already satisfied: requests<3,>=2.27 in /usr/local/lib/python3.10/dist-packages (from gTTS) (2.31.0)\n",
            "Requirement already satisfied: click<8.2,>=7.1 in /usr/local/lib/python3.10/dist-packages (from gTTS) (8.1.7)\n",
            "Requirement already satisfied: charset-normalizer<4,>=2 in /usr/local/lib/python3.10/dist-packages (from requests<3,>=2.27->gTTS) (3.3.2)\n",
            "Requirement already satisfied: idna<4,>=2.5 in /usr/local/lib/python3.10/dist-packages (from requests<3,>=2.27->gTTS) (3.7)\n",
            "Requirement already satisfied: urllib3<3,>=1.21.1 in /usr/local/lib/python3.10/dist-packages (from requests<3,>=2.27->gTTS) (2.0.7)\n",
            "Requirement already satisfied: certifi>=2017.4.17 in /usr/local/lib/python3.10/dist-packages (from requests<3,>=2.27->gTTS) (2024.2.2)\n"
          ]
        }
      ]
    },
    {
      "cell_type": "code",
      "source": [
        "# Text to be converted to speech\n",
        "text = \"This is a test message.\"\n",
        "\n",
        "# Language in which you want to convert\n",
        "language = 'en'\n",
        "\n",
        "# Pass the text and language to the gTTS module\n",
        "speech = gTTS(text = text, lang = language, slow = False)\n",
        "\n",
        "# Save the converted audio file\n",
        "speech.save(\"output.mp3\")\n",
        "\n",
        "# Display the audio directly in the notebook\n",
        "display(Audio(\"output.mp3\", autoplay=True))"
      ],
      "metadata": {
        "colab": {
          "base_uri": "https://localhost:8080/",
          "height": 74
        },
        "id": "f-vRkhTllrOh",
        "outputId": "f4ee957b-9431-4243-c865-7f273876828f"
      },
      "execution_count": 10,
      "outputs": [
        {
          "output_type": "display_data",
          "data": {
            "text/plain": [
              "<IPython.lib.display.Audio object>"
            ],
            "text/html": [
              "\n",
              "                <audio  controls=\"controls\" autoplay=\"autoplay\">\n",
              "                    <source src=\"data:audio/mpeg;base64,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\" type=\"audio/mpeg\" />\n",
              "                    Your browser does not support the audio element.\n",
              "                </audio>\n",
              "              "
            ]
          },
          "metadata": {}
        }
      ]
    },
    {
      "cell_type": "markdown",
      "source": [
        "# You need to install 'gradio' before you use (import) it. (😏Check my code below): 1/3"
      ],
      "metadata": {
        "id": "dIWX509Cjkc_"
      }
    },
    {
      "cell_type": "code",
      "source": [
        "!pip install gradio #🚩 Suggested code"
      ],
      "metadata": {
        "id": "2lo3ihBokhTP"
      },
      "execution_count": null,
      "outputs": []
    },
    {
      "cell_type": "code",
      "source": [
        "import gradio as gr\n",
        "from gtts import gTTS\n",
        "import os\n",
        "\n",
        "def text_to_speech(text, language):\n",
        "    lang_code = 'en' if language == \"English\" else 'ko'\n",
        "    tts = gTTS(text=text, lang=lang_code, slow=False)\n",
        "    tts.save(\"output.mp3\")\n",
        "    return \"output.mp3\"\n",
        "\n",
        "interface = gr.Interface(\n",
        "    fn=text_to_speech,\n",
        "    inputs=[\n",
        "        gr.Textbox(lines=3, label=\"Enter text\"),\n",
        "        gr.Radio(choices=[\"English\", \"Korean\"], label=\"Select language\")  # Assuming you want 'Korean' as another option\n",
        "    ],\n",
        "    outputs=gr.Audio(type=\"filepath\", label=\"Audio\"),\n",
        "    title=\"Text-to-Speech\",\n",
        "    description=\"Type in some text, select a language, and generate audio.\"\n",
        ")\n",
        "\n",
        "interface.launch()"
      ],
      "metadata": {
        "colab": {
          "base_uri": "https://localhost:8080/",
          "height": 651
        },
        "id": "iMJJIa66lIOZ",
        "outputId": "2df0ad97-cbfa-43a2-a5f6-a873f044f11f"
      },
      "execution_count": 17,
      "outputs": [
        {
          "output_type": "stream",
          "name": "stdout",
          "text": [
            "Setting queue=True in a Colab notebook requires sharing enabled. Setting `share=True` (you can turn this off by setting `share=False` in `launch()` explicitly).\n",
            "\n",
            "Colab notebook detected. To show errors in colab notebook, set debug=True in launch()\n",
            "Running on public URL: https://9bcb10643e763d4626.gradio.live\n",
            "\n",
            "This share link expires in 72 hours. For free permanent hosting and GPU upgrades, run `gradio deploy` from Terminal to deploy to Spaces (https://huggingface.co/spaces)\n"
          ]
        },
        {
          "output_type": "display_data",
          "data": {
            "text/plain": [
              "<IPython.core.display.HTML object>"
            ],
            "text/html": [
              "<div><iframe src=\"https://9bcb10643e763d4626.gradio.live\" width=\"100%\" height=\"500\" allow=\"autoplay; camera; microphone; clipboard-read; clipboard-write;\" frameborder=\"0\" allowfullscreen></iframe></div>"
            ]
          },
          "metadata": {}
        },
        {
          "output_type": "execute_result",
          "data": {
            "text/plain": []
          },
          "metadata": {},
          "execution_count": 17
        }
      ]
    },
    {
      "cell_type": "markdown",
      "source": [
        "---\n",
        "The END\n",
        "\n",
        "Coding: 11.5"
      ],
      "metadata": {
        "id": "xm6n193mklQn"
      }
    }
  ]
}